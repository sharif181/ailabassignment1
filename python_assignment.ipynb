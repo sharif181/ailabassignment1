{
  "nbformat": 4,
  "nbformat_minor": 0,
  "metadata": {
    "colab": {
      "name": "python assignment.ipynb",
      "provenance": [],
      "collapsed_sections": [],
      "authorship_tag": "ABX9TyPjPj8eROvEam4eGNTy+3xN",
      "include_colab_link": true
    },
    "kernelspec": {
      "name": "python3",
      "display_name": "Python 3"
    }
  },
  "cells": [
    {
      "cell_type": "markdown",
      "metadata": {
        "id": "view-in-github",
        "colab_type": "text"
      },
      "source": [
        "<a href=\"https://colab.research.google.com/github/sharif181/ailabassignment1/blob/main/python_assignment.ipynb\" target=\"_parent\"><img src=\"https://colab.research.google.com/assets/colab-badge.svg\" alt=\"Open In Colab\"/></a>"
      ]
    },
    {
      "cell_type": "code",
      "metadata": {
        "id": "xEk4xRi4DOgK"
      },
      "source": [
        "def style():\r\n",
        "  print()\r\n",
        "  print(\"##############################\")\r\n",
        "courses = []"
      ],
      "execution_count": 30,
      "outputs": []
    },
    {
      "cell_type": "code",
      "metadata": {
        "id": "BIPChZwhD4W8"
      },
      "source": [
        "\r\n",
        "def show_course():\r\n",
        "  if len(courses)==0:\r\n",
        "    print()\r\n",
        "    print(\"No Course registred yet!!!!\")\r\n",
        "  else:\r\n",
        "    print()\r\n",
        "    print(\"Course registered by Sharif Khan in this semester: \")\r\n",
        "    for index,course in enumerate(courses):\r\n",
        "      print(index+1,\" \",course)\r\n",
        "\r\n",
        "def add_course():\r\n",
        "  print()\r\n",
        "  course = input(\"Enter course name: \")\r\n",
        "  courses.append(course)\r\n",
        "  print(\"{} Course is added successfully\".format(course))\r\n",
        "\r\n",
        "\r\n",
        "def remove_course():\r\n",
        "  print()\r\n",
        "  show_course()\r\n",
        "  course = input(\"Enter course name: \")\r\n",
        "  if course in courses:\r\n",
        "    courses.remove(course)\r\n",
        "    print(\"{} Course is removed successfully\".format(course))\r\n",
        "  else:\r\n",
        "    print(\"{} named course is not registered. \".format(course))\r\n",
        "  \r\n",
        "\r\n",
        "\r\n",
        "def menu():\r\n",
        "  print()\r\n",
        "  style()\r\n",
        "  print(\"Menu\")\r\n",
        "  print(\"Enter 1 Add course !!!\")\r\n",
        "  print(\"Enter 2 Unenroll from Course !!!!\")\r\n",
        "  print(\"Enter 3 Show registered courses !!!\")\r\n",
        "  print(\"Enter any key to exit.\")\r\n",
        "  choice = int(input())\r\n",
        "  return choice"
      ],
      "execution_count": 34,
      "outputs": []
    },
    {
      "cell_type": "code",
      "metadata": {
        "colab": {
          "base_uri": "https://localhost:8080/"
        },
        "id": "VXXJA1nLFIUq",
        "outputId": "6cf11c1c-d4b3-4128-f1f3-79918657694f"
      },
      "source": [
        "\r\n",
        "run = True\r\n",
        "while run:\r\n",
        "  choice = menu()\r\n",
        "  if choice == 1:\r\n",
        "    add_course()\r\n",
        "  elif choice == 2:\r\n",
        "    remove_course()\r\n",
        "  elif choice == 3:\r\n",
        "    show_course()\r\n",
        "  else:\r\n",
        "    run = False\r\n",
        "\r\n"
      ],
      "execution_count": 35,
      "outputs": [
        {
          "output_type": "stream",
          "text": [
            "\n",
            "\n",
            "##############################\n",
            "Menu\n",
            "Enter 1 Add course !!!\n",
            "Enter 2 Unenroll from Course !!!!\n",
            "Enter 3 Show registered courses !!!\n",
            "Enter any key to exit.\n",
            "2\n",
            "\n",
            "\n",
            "Course registered by Sharif Khan in this semester: \n",
            "1   AI Lab\n",
            "2   Simulation and modeling\n",
            "Enter course name: AI Lab\n",
            "AI Lab Course is removed successfully\n",
            "\n",
            "\n",
            "##############################\n",
            "Menu\n",
            "Enter 1 Add course !!!\n",
            "Enter 2 Unenroll from Course !!!!\n",
            "Enter 3 Show registered courses !!!\n",
            "Enter any key to exit.\n",
            "2\n",
            "\n",
            "\n",
            "Course registered by Sharif Khan in this semester: \n",
            "1   Simulation and modeling\n",
            "Enter course name: Simulation and modeling\n",
            "Simulation and modeling Course is removed successfully\n",
            "\n",
            "\n",
            "##############################\n",
            "Menu\n",
            "Enter 1 Add course !!!\n",
            "Enter 2 Unenroll from Course !!!!\n",
            "Enter 3 Show registered courses !!!\n",
            "Enter any key to exit.\n",
            "1\n",
            "\n",
            "Enter course name: Web Engineering Theory\n",
            "Web Engineering Theory Course is added successfully\n",
            "\n",
            "\n",
            "##############################\n",
            "Menu\n",
            "Enter 1 Add course !!!\n",
            "Enter 2 Unenroll from Course !!!!\n",
            "Enter 3 Show registered courses !!!\n",
            "Enter any key to exit.\n",
            "1\n",
            "\n",
            "Enter course name: Web Engineering Lab\n",
            "Web Engineering Lab Course is added successfully\n",
            "\n",
            "\n",
            "##############################\n",
            "Menu\n",
            "Enter 1 Add course !!!\n",
            "Enter 2 Unenroll from Course !!!!\n",
            "Enter 3 Show registered courses !!!\n",
            "Enter any key to exit.\n",
            "1\n",
            "\n",
            "Enter course name: AI Lab\n",
            "AI Lab Course is added successfully\n",
            "\n",
            "\n",
            "##############################\n",
            "Menu\n",
            "Enter 1 Add course !!!\n",
            "Enter 2 Unenroll from Course !!!!\n",
            "Enter 3 Show registered courses !!!\n",
            "Enter any key to exit.\n",
            "3\n",
            "\n",
            "Course registered by Sharif Khan in this semester: \n",
            "1   Web Engineering Theory\n",
            "2   Web Engineering Lab\n",
            "3   AI Lab\n",
            "\n",
            "\n",
            "##############################\n",
            "Menu\n",
            "Enter 1 Add course !!!\n",
            "Enter 2 Unenroll from Course !!!!\n",
            "Enter 3 Show registered courses !!!\n",
            "Enter any key to exit.\n",
            "5\n"
          ],
          "name": "stdout"
        }
      ]
    },
    {
      "cell_type": "code",
      "metadata": {
        "id": "7MdAISh3FQYm"
      },
      "source": [
        ""
      ],
      "execution_count": null,
      "outputs": []
    }
  ]
}